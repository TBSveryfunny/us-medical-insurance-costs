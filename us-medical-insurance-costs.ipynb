{
 "cells": [
  {
   "cell_type": "markdown",
   "metadata": {},
   "source": [
    "# U.S. Medical Insurance Costs"
   ]
  },
  {
   "cell_type": "markdown",
   "metadata": {},
   "source": [
    "This project will focus on the impact of various factors on medical insurance costs. Using Python fundamentals, we will analyze **insurance.csv** from the provided starter ZIP. We will also gain insight into the future uses of the data.\n",
    "\n",
    "The topics that will be analyzed are listed below: \n",
    "- The average insurance cost by region\n",
    "- The smoking and BMI rates by region and how they could correlate with insurance costs for those regions\n",
    "- The potential correlation of sex, number of children, and aging with insurance costs for the dataset as a whole\n",
    "\n",
    "No evidence of missing data exists, simplifying the process of preparing the data for analysis."
   ]
  },
  {
   "cell_type": "code",
   "execution_count": 2,
   "metadata": {},
   "outputs": [],
   "source": [
    "#Import CSV library\n",
    "import csv"
   ]
  },
  {
   "cell_type": "code",
   "execution_count": 6,
   "metadata": {},
   "outputs": [
    {
     "name": "stdout",
     "output_type": "stream",
     "text": [
      "{'age': '19', 'sex': 'female', 'bmi': '27.9', 'children': '0', 'smoker': 'yes', 'region': 'southwest', 'charges': '16884.924'}\n"
     ]
    }
   ],
   "source": [
    "### Generate dictionary from CSV file\n",
    "\n",
    "# Create lists of dictionaries for each row in file\n",
    "insurance_db = []\n",
    "# Open the .csv and load the data into our list\n",
    "with open(\"insurance.csv\") as csv_file:\n",
    "  insurance = csv.DictReader(csv_file)\n",
    "  for row in insurance:\n",
    "    insurance_db.append(row)\n",
    "print(insurance_db[0])"
   ]
  },
  {
   "cell_type": "code",
   "execution_count": 87,
   "metadata": {},
   "outputs": [],
   "source": [
    "# Generic numerical \"average\" function\n",
    "def average(column, dict_list):\n",
    "  av = 0\n",
    "  for row in dict_list:\n",
    "    value = row[column]\n",
    "    try:\n",
    "      av += float(value)\n",
    "    except: # exception: input validation against non-numeric columns\n",
    "      av = 0\n",
    "      print(\"error: column not entirely composed of numbers\")\n",
    "      print(\"first offending value: \" + str(value))\n",
    "      break\n",
    "  return av / len(dict_list)\n",
    "\n",
    "# Functions to return narrowed versions of the database\n",
    "def narrow(db, column, value):\n",
    "  def narrower(row):\n",
    "    return row[column] == value\n",
    "  return list(filter(narrower, db))\n",
    "\n",
    "def narrow_numeric(db, column, min, max):\n",
    "  def narrower(row):\n",
    "    float_r = float(row[column]);\n",
    "    return float_r >= min and float_r < max\n",
    "  return list(filter(narrower, db))\n",
    "\n",
    "# Function to get list of unique regions\n",
    "def regions_list(db):\n",
    "  regions = []\n",
    "  for row in db:\n",
    "    row_r = row[\"region\"]\n",
    "    if row_r not in regions: \n",
    "      regions.append(row_r)\n",
    "  return regions"
   ]
  },
  {
   "cell_type": "code",
   "execution_count": 64,
   "metadata": {},
   "outputs": [
    {
     "name": "stdout",
     "output_type": "stream",
     "text": [
      "The average insurance charge in the dataset overall is $13270.42.\n",
      "\n",
      "The average insurance charge for the \"southwest\" region is $12346.94.\n",
      "The average insurance charge for the \"southeast\" region is $14735.41.\n",
      "The average insurance charge for the \"northwest\" region is $12417.58.\n",
      "The average insurance charge for the \"northeast\" region is $13406.38.\n"
     ]
    }
   ],
   "source": [
    "average_overall = round(average(\"charges\", insurance_db), 2)\n",
    "print(\"The average insurance charge in the dataset overall is $\" + str(average_overall) + \".\\n\")\n",
    "regionslist = regions_list(insurance_db) # save regions list for future use in this project\n",
    "regionaldbs = {} # save regional databases for future use in this project\n",
    "for region in regionslist:\n",
    "  regionaldbs.update({region:narrow(insurance_db, \"region\", region)})\n",
    "  average_by_region = round(average(\"charges\", regional_dbs[region]), 2)\n",
    "  print(\"The average insurance charge for the \\\"\" + region + \"\\\" region is $\" + str(average_by_region) + \".\")"
   ]
  },
  {
   "cell_type": "markdown",
   "metadata": {},
   "source": [
    "There are four unique regions present in the file. The Southeastern region appears to have the highest average insurance charge. Previous data analyses have singled out the south for health problems; [the percentage of adults who have been told by a doctor that they have diabetes tends to be highest in this region.](https://www.kff.org/wp-content/uploads/2016/02/8836-figure-5.png)"
   ]
  },
  {
   "cell_type": "code",
   "execution_count": 94,
   "metadata": {},
   "outputs": [
    {
     "name": "stdout",
     "output_type": "stream",
     "text": [
      "The average insurance charge in the dataset for smokers is $32050.23, compared to $8434.27 for nonsmokers.\n",
      "\n",
      "17.8% of southwest adults are smokers.\n",
      "25.0% of southeast adults are smokers.\n",
      "17.8% of northwest adults are smokers.\n",
      "20.7% of northeast adults are smokers.\n",
      "\n",
      "The average BMI in the dataset is 30.66.\n",
      "\n",
      "The average insurance charge in the dataset for those with an above average BMI is $15801.79, \n",
      "compared to $10907.33 for those with a below average BMI.\n",
      "\n",
      "The average BMI in the southwest region is 30.6.\n",
      "The average BMI in the southeast region is 33.36.\n",
      "The average BMI in the northwest region is 29.2.\n",
      "The average BMI in the northeast region is 29.17.\n"
     ]
    }
   ],
   "source": [
    "average_smoker = round(average(\"charges\", narrow(insurance_db, \"smoker\", \"yes\")), 2)\n",
    "average_nonsmoker = round(average(\"charges\", narrow(insurance_db, \"smoker\", \"no\")), 2)\n",
    "print(\"The average insurance charge in the dataset for smokers is $\" + str(average_smoker) + \", compared to $\" + str(average_nonsmoker) + \" for nonsmokers.\\n\")\n",
    "for region in regionslist:\n",
    "  smoker_by_region = round(len(narrow(regional_dbs[region], \"smoker\", \"yes\")) / len(regional_dbs[region]), 3) * 100.0\n",
    "  print(str(smoker_by_region) + \"% of \" + region + \" adults are smokers.\")\n",
    "print()\n",
    "average_bmi = round(average(\"bmi\", insurance_db), 2)\n",
    "avg_below_bmi = round(average(\"charges\", narrow_numeric(insurance_db, \"bmi\", 0, average_bmi)), 2)\n",
    "avg_above_bmi = round(average(\"charges\", narrow_numeric(insurance_db, \"bmi\", average_bmi, float(\"inf\"))), 2)\n",
    "print(\"The average BMI in the dataset is \" + str(average_bmi) + \".\\n\")\n",
    "print(\"The average insurance charge in the dataset for those with an above average BMI is $\" + str(avg_above_bmi) + \", \\ncompared to $\" + str(avg_below_bmi) + \" for those with a below average BMI.\\n\")\n",
    "for region in regionslist:\n",
    "  bmi_by_region = round(average(\"bmi\", regional_dbs[region]), 2)\n",
    "  print(\"The average BMI in the \" + region + \" region is \" + str(bmi_by_region) + \".\")"
   ]
  },
  {
   "cell_type": "markdown",
   "metadata": {},
   "source": [
    "The Southeastern region has both the highest BMI and the highest smoking rate out of all the regions. Further analysis could be performed as to how *exactly* these factors increase the Southeast's insurance costs, but that is beyond the scope of this project."
   ]
  },
  {
   "cell_type": "code",
   "execution_count": 117,
   "metadata": {},
   "outputs": [
    {
     "name": "stdout",
     "output_type": "stream",
     "text": [
      "The average insurance charge in the dataset for men is $13956.75, compared to $12569.58 for women.\n",
      "\n",
      "The average insurance charge in the dataset for people with 0 child(ren) is $12365.98.\n",
      "The average insurance charge in the dataset for people with 1 child(ren) is $12731.17.\n",
      "The average insurance charge in the dataset for people with 2 child(ren) is $15073.56.\n",
      "The average insurance charge in the dataset for people with 3 child(ren) is $15355.32.\n",
      "The average insurance charge in the dataset for people with 4 children or more is $11730.58.\n",
      "\n",
      "The average insurance charge in the dataset for people aged 18-26 is $9087.02.\n",
      "The average insurance charge in the dataset for people aged 26-34 is $10267.61.\n",
      "The average insurance charge in the dataset for people aged 34-42 is $11784.23.\n",
      "The average insurance charge in the dataset for people aged 42-50 is $15283.89.\n",
      "The average insurance charge in the dataset for people aged 50-58 is $16519.63.\n",
      "The average insurance charge in the dataset for people aged 58-66 is $19766.12.\n"
     ]
    }
   ],
   "source": [
    "average_male = round(average(\"charges\", narrow(insurance_db, \"sex\", \"male\")), 2)\n",
    "average_female = round(average(\"charges\", narrow(insurance_db, \"sex\", \"female\")), 2)\n",
    "print(\"The average insurance charge in the dataset for men is $\" + str(average_male) + \", compared to $\" + str(average_female) + \" for women.\\n\")\n",
    "\n",
    "for i in range(4):\n",
    "  average_children = round(average(\"charges\", narrow_numeric(insurance_db, \"children\", i, i + 1)), 2)\n",
    "  print(\"The average insurance charge in the dataset for people with \" + str(i) + \" child(ren) is $\" + str(average_children) + \".\")\n",
    "average_children = round(average(\"charges\", narrow_numeric(insurance_db, \"children\", 4, float(\"inf\"))), 2)\n",
    "print(\"The average insurance charge in the dataset for people with 4 children or more is $\" + str(average_children) + \".\\n\")\n",
    "\n",
    "range_span = 8\n",
    "for i in range(6):\n",
    "  range_num = i * range_span\n",
    "  bottom = 18 + range_num\n",
    "  top = 18 + range_span + range_num\n",
    "  average_age = round(average(\"charges\", narrow_numeric(insurance_db, \"age\", bottom, top)), 2)\n",
    "  print(\"The average insurance charge in the dataset for people aged \" + str(bottom) + \"-\" + str(top) + \" is $\" + str(average_age) + \".\")"
   ]
  },
  {
   "cell_type": "markdown",
   "metadata": {},
   "source": [
    "Men have a slightly higher average insurance charge than women. Having more children is correlated with higher charges to a point, and a higher age is correlated with higher charges as well. Further analysis could be performed as to how exactly these factors increase overall insurance costs, but that is beyond the scope of this project."
   ]
  },
  {
   "cell_type": "code",
   "execution_count": null,
   "metadata": {},
   "outputs": [],
   "source": []
  }
 ],
 "metadata": {
  "kernelspec": {
   "display_name": "Python 3 (ipykernel)",
   "language": "python",
   "name": "python3"
  },
  "language_info": {
   "codemirror_mode": {
    "name": "ipython",
    "version": 3
   },
   "file_extension": ".py",
   "mimetype": "text/x-python",
   "name": "python",
   "nbconvert_exporter": "python",
   "pygments_lexer": "ipython3",
   "version": "3.11.4"
  }
 },
 "nbformat": 4,
 "nbformat_minor": 4
}
